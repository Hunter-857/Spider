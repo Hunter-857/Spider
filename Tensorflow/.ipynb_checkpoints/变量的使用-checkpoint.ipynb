{
 "cells": [
  {
   "cell_type": "code",
   "execution_count": 2,
   "metadata": {},
   "outputs": [],
   "source": [
    "import tensorflow as tf\n"
   ]
  },
  {
   "cell_type": "code",
   "execution_count": 3,
   "metadata": {},
   "outputs": [
    {
     "name": "stdout",
     "output_type": "stream",
     "text": [
      "[-2 -1]\n",
      "[4 5]\n",
      "b'hello world'\n"
     ]
    }
   ],
   "source": [
    "x = tf.Variable([1, 2])\n",
    "a = tf.constant([3, 3])\n",
    "# 增加一个减法 \n",
    "sub = tf.subtract(x, a)\n",
    "add = tf.add(x, a)\n",
    "hello = tf.constant(\"hello world\")\n",
    "    \n",
    "with tf.Session() as session:\n",
    "    session.run(x.initializer)\n",
    "    print(session.run(sub))\n",
    "    print(session.run(add))\n",
    "    print(session.run(hello))\n"
   ]
  },
  {
   "cell_type": "code",
   "execution_count": 4,
   "metadata": {},
   "outputs": [
    {
     "data": {
      "text/plain": [
       "[<tf.Variable 'w:0' shape=(1, 4) dtype=float32_ref>,\n",
       " <tf.Variable 'b:0' shape=(4,) dtype=float32_ref>]"
      ]
     },
     "execution_count": 4,
     "metadata": {},
     "output_type": "execute_result"
    }
   ],
   "source": [
    "# 创建变量 tf.random_normal 返回形状为（1，4）的张量 4个元素满足 标准差0.35 均值100 的正态分布\n",
    "w = tf.Variable(initial_value=tf.random_normal(shape=(1, 4), mean=100, stddev=0.35), name='w')\n",
    "b = tf.Variable(tf.zeros([4]),name = 'b')\n",
    "\n",
    "[w, b]"
   ]
  },
  {
   "cell_type": "code",
   "execution_count": 5,
   "metadata": {},
   "outputs": [
    {
     "data": {
      "text/plain": [
       "[array([[100.61045 ,  99.738976,  99.742424, 100.19681 ]], dtype=float32),\n",
       " array([0., 0., 0., 0.], dtype=float32)]"
      ]
     },
     "execution_count": 5,
     "metadata": {},
     "output_type": "execute_result"
    }
   ],
   "source": [
    "session = tf.Session()\n",
    "session.run(tf.global_variables_initializer())\n",
    "session.run([w, b])\n"
   ]
  },
  {
   "cell_type": "code",
   "execution_count": null,
   "metadata": {},
   "outputs": [
    {
     "data": {
      "text/plain": [
       "array([1., 1., 1., 1.], dtype=float32)"
      ]
     },
     "execution_count": 6,
     "metadata": {},
     "output_type": "execute_result"
    }
   ],
   "source": [
    "session.run(tf.assign_add(b,[1, 1, 1, 1]))\n"
   ]
  },
  {
   "cell_type": "code",
   "execution_count": 7,
   "metadata": {},
   "outputs": [
    {
     "data": {
      "text/plain": [
       "array([1., 1., 1., 1.], dtype=float32)"
      ]
     },
     "execution_count": 7,
     "metadata": {},
     "output_type": "execute_result"
    }
   ],
   "source": [
    "session.run(b)\n"
   ]
  },
  {
   "cell_type": "markdown",
   "metadata": {},
   "source": [
    "# Saver 使用\n",
    "\n",
    "    # 创建Saver \n",
    "    v1 = tf.Variable(...,name='v1')\n",
    "    v2 = tf.Variable(...,name='v2')\n",
    "    # 指定需要保存和恢复的变量\n",
    "    # 支持存入的方式 1.key:value 2.列表 3.循环\n",
    "    saver = tf.train.Saver({'v1':v1, 'v2':v2})\n",
    "    saver = tf.train.Saver([v1, v2])\n",
    "    saver = tf.train.Saver({v.op.name:v for v in[v1, v2]})\n",
    "\n",
    "    # 保存变量的方法 filename ===> 'my-model-0'\n",
    "    tf.train.saver.save(session,'my-model', global_step=0)"
   ]
  },
  {
   "cell_type": "code",
   "execution_count": 8,
   "metadata": {},
   "outputs": [
    {
     "data": {
      "text/plain": [
       "'summary/test_ckpt-0'"
      ]
     },
     "execution_count": 8,
     "metadata": {},
     "output_type": "execute_result"
    }
   ],
   "source": [
    "# 创建Saver \n",
    "saver = tf.train.Saver({'w': w, 'b': b})\n",
    "saver.save(session, 'summary/test_ckpt', global_step=0)\n"
   ]
  },
  {
   "cell_type": "code",
   "execution_count": null,
   "metadata": {},
   "outputs": [],
   "source": [
    "print('test')"
   ]
  }
 ],
 "metadata": {
  "kernelspec": {
   "display_name": "Python 3",
   "language": "python",
   "name": "python3"
  },
  "language_info": {
   "codemirror_mode": {
    "name": "ipython",
    "version": 3
   },
   "file_extension": ".py",
   "mimetype": "text/x-python",
   "name": "python",
   "nbconvert_exporter": "python",
   "pygments_lexer": "ipython3",
   "version": "3.6.7"
  }
 },
 "nbformat": 4,
 "nbformat_minor": 1
}
