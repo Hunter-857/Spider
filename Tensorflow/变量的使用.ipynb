{
 "cells": [
  {
   "cell_type": "code",
   "execution_count": 28,
   "metadata": {},
   "outputs": [],
   "source": [
    "import tensorflow as tf\n"
   ]
  },
  {
   "cell_type": "code",
   "execution_count": 29,
   "metadata": {},
   "outputs": [
    {
     "name": "stdout",
     "output_type": "stream",
     "text": [
      "[-2 -1]\n[4 5]\nb'hello world'\n"
     ]
    }
   ],
   "source": [
    "x = tf.Variable([1, 2])\n",
    "a = tf.constant([3, 3])\n",
    "# 增加一个减法 \n",
    "sub = tf.subtract(x, a)\n",
    "add = tf.add(x, a)\n",
    "hello = tf.constant(\"hello world\")\n",
    "    \n",
    "with tf.Session() as session:\n",
    "    session.run(x.initializer)\n",
    "    print(session.run(sub))\n",
    "    print(session.run(add))\n",
    "    print(session.run(hello))\n"
   ]
  },
  {
   "cell_type": "code",
   "execution_count": 30,
   "metadata": {},
   "outputs": [
    {
     "data": {
      "text/plain": [
       "[<tf.Variable 'w_2:0' shape=(1, 4) dtype=float32_ref>,\n <tf.Variable 'b_2:0' shape=(4,) dtype=float32_ref>]"
      ]
     },
     "execution_count": 30,
     "metadata": {},
     "output_type": "execute_result"
    }
   ],
   "source": [
    "# 创建变量 tf.random_normal 返回形状为（1，4）的张量 4个元素满足 标准差0.35 均值100 的正态分布\n",
    "w = tf.Variable(initial_value=tf.random_normal(shape=(1, 4), mean=100, stddev=0.35), name='w')\n",
    "b = tf.Variable(tf.zeros([4]),name = 'b')\n",
    "\n",
    "[w, b]"
   ]
  },
  {
   "cell_type": "code",
   "execution_count": 31,
   "metadata": {},
   "outputs": [
    {
     "data": {
      "text/plain": [
       "[array([[100.17237 , 100.00002 , 100.351875, 100.46447 ]], dtype=float32),\n array([0., 0., 0., 0.], dtype=float32)]"
      ]
     },
     "execution_count": 31,
     "metadata": {},
     "output_type": "execute_result"
    }
   ],
   "source": [
    "session = tf.Session()\n",
    "session.run(tf.global_variables_initializer())\n",
    "session.run([w, b])\n"
   ]
  },
  {
   "cell_type": "code",
   "execution_count": 32,
   "metadata": {},
   "outputs": [
    {
     "data": {
      "text/plain": [
       "array([1., 1., 1., 1.], dtype=float32)"
      ]
     },
     "execution_count": 32,
     "metadata": {},
     "output_type": "execute_result"
    }
   ],
   "source": [
    "session.run(tf.assign_add(b,[1, 1, 1, 1]))\n"
   ]
  },
  {
   "cell_type": "code",
   "execution_count": 33,
   "metadata": {},
   "outputs": [
    {
     "data": {
      "text/plain": [
       "array([1., 1., 1., 1.], dtype=float32)"
      ]
     },
     "execution_count": 33,
     "metadata": {},
     "output_type": "execute_result"
    }
   ],
   "source": [
    "session.run(b)\n"
   ]
  },
  {
   "cell_type": "markdown",
   "metadata": {},
   "source": [
    "# Saver 使用\n",
    "\n",
    "    # 创建Saver \n",
    "    v1 = tf.Variable(...,name='v1')\n",
    "    v2 = tf.Variable(...,name='v2')\n",
    "    # 指定需要保存和恢复的变量\n",
    "    # 支持存入的方式 1.key:value 2.列表 3.循环\n",
    "    saver = tf.train.Saver({'v1':v1, 'v2':v2})\n",
    "    saver = tf.train.Saver([v1, v2])\n",
    "    saver = tf.train.Saver({v.op.name:v for v in[v1, v2]})\n",
    "\n",
    "    # 保存变量的方法 filename ===> 'my-model-0' global step 指明当前的步数\n",
    "    tf.train.saver.save(session,'my-model', global_step=0)"
   ]
  },
  {
   "cell_type": "code",
   "execution_count": 34,
   "metadata": {},
   "outputs": [
    {
     "data": {
      "text/plain": [
       "'./summary/test_ckpt-0'"
      ]
     },
     "execution_count": 34,
     "metadata": {},
     "output_type": "execute_result"
    }
   ],
   "source": [
    "# 创建Saver \n",
    "saver = tf.train.Saver({'w': w, 'b': b})\n",
    "saver.save(session, './summary/test_ckpt', global_step=0)\n"
   ]
  },
  {
   "cell_type": "code",
   "execution_count": 35,
   "metadata": {},
   "outputs": [
    {
     "data": {
      "text/plain": [
       "array([2., 2., 2., 2.], dtype=float32)"
      ]
     },
     "execution_count": 35,
     "metadata": {},
     "output_type": "execute_result"
    }
   ],
   "source": [
    "session.run(tf.assign_add(b, [1, 1, 1, 1]))\n",
    "session.run(b)\n"
   ]
  },
  {
   "cell_type": "code",
   "execution_count": 36,
   "metadata": {
    "collapsed": false
   },
   "outputs": [
    {
     "name": "stdout",
     "output_type": "stream",
     "text": [
      "INFO:tensorflow:Restoring parameters from ./summary/test_ckpt-0\n"
     ]
    },
    {
     "data": {
      "text/plain": [
       "array([1., 1., 1., 1.], dtype=float32)"
      ]
     },
     "execution_count": 36,
     "metadata": {},
     "output_type": "execute_result"
    }
   ],
   "source": [
    "# 从文件中恢复变量 b 的值\n",
    "saver.restore(session, './summary/test_ckpt-0')\n",
    "session.run(b)\n"
   ]
  },
  {
   "cell_type": "code",
   "execution_count": 14,
   "metadata": {},
   "outputs": [],
   "source": [
    "# 从文件中恢复数据流图结构\n",
    "# tf.train.import_meta_graph\n"
   ]
  },
  {
   "cell_type": "code",
   "execution_count": null,
   "metadata": {},
   "outputs": [],
   "source": []
  }
 ],
 "metadata": {
  "kernelspec": {
   "display_name": "Python 3",
   "language": "python",
   "name": "python3"
  },
  "language_info": {
   "codemirror_mode": {
    "name": "ipython",
    "version": 3
   },
   "file_extension": ".py",
   "mimetype": "text/x-python",
   "name": "python",
   "nbconvert_exporter": "python",
   "pygments_lexer": "ipython3",
   "version": "3.6.7"
  }
 },
 "nbformat": 4,
 "nbformat_minor": 1
}
