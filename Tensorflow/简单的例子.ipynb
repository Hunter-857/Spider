{
 "cells": [
  {
   "cell_type": "code",
   "execution_count": 1,
   "metadata": {},
   "outputs": [],
   "source": [
    "import tensorflow as tf\n",
    "import numpy as np"
   ]
  },
  {
   "cell_type": "code",
   "execution_count": 19,
   "metadata": {},
   "outputs": [
    {
     "name": "stdout",
     "output_type": "stream",
     "text": [
      "0 [0.052046623, 0.099608645]\n",
      "20 [0.102160595, 0.19886832]\n",
      "40 [0.10128632, 0.19932632]\n",
      "60 [0.10076582, 0.19959892]\n",
      "80 [0.10045593, 0.19976121]\n",
      "100 [0.100271456, 0.19985783]\n",
      "120 [0.100161605, 0.19991535]\n",
      "140 [0.10009622, 0.1999496]\n",
      "160 [0.10005728, 0.19997]\n",
      "180 [0.100034095, 0.19998214]\n",
      "200 [0.10002031, 0.19998936]\n"
     ]
    }
   ],
   "source": [
    "# 使用 numpy 生成100个随机点\n",
    "x_data = np.random.rand(100)\n",
    "# 真实的模型\n",
    "y_data = x_data*0.1 + 0.2\n",
    "\n",
    "# 构造一个线性模型\n",
    "b = tf.Variable(0.0)\n",
    "k = tf.Variable(0.0)\n",
    "y = k*x_data + b\n",
    "\n",
    "# 二次代价函数 \n",
    "# tf.reduce_mean 函数用于计算张量tensor沿着指定的数轴（tensor的某一维度）上的的平均值，主要用作降维或者计算tensor（图像）的平均值。\n",
    "loss = tf.reduce_mean(tf.square(y_data-y))\n",
    "#梯度下降来优化\n",
    "\n",
    "optimizer = tf.train.GradientDescentOptimizer(0.2)\n",
    "#最小化代价函数 \n",
    "train = optimizer.minimize(loss)\n",
    "\n",
    "init =tf.global_variables_initializer()\n",
    "\n",
    "with tf.Session() as session:\n",
    "    session.run(init)\n",
    "    for step in range(201):\n",
    "        session.run(train)\n",
    "        if step%20 ==0:\n",
    "            print(step,session.run([k, b]))"
   ]
  },
  {
   "cell_type": "code",
   "execution_count": null,
   "metadata": {},
   "outputs": [],
   "source": []
  }
 ],
 "metadata": {
  "kernelspec": {
   "display_name": "Python 3",
   "language": "python",
   "name": "python3"
  },
  "language_info": {
   "codemirror_mode": {
    "name": "ipython",
    "version": 3
   },
   "file_extension": ".py",
   "mimetype": "text/x-python",
   "name": "python",
   "nbconvert_exporter": "python",
   "pygments_lexer": "ipython3",
   "version": "3.6.7"
  }
 },
 "nbformat": 4,
 "nbformat_minor": 2
}
