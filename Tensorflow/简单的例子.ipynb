{
 "cells": [
  {
   "cell_type": "code",
   "execution_count": 2,
   "metadata": {},
   "outputs": [],
   "source": [
    "import tensorflow as tf\n",
    "import numpy as np\n"
   ]
  },
  {
   "cell_type": "code",
   "execution_count": 3,
   "metadata": {},
   "outputs": [
    {
     "name": "stdout",
     "output_type": "stream",
     "text": [
      "0 [0.054792035, 0.10058589]\n20 [0.10437441, 0.19760743]\n40 [0.10271255, 0.19851643]\n60 [0.101682, 0.19908006]\n80 [0.10104297, 0.19942957]\n100 [0.10064673, 0.1996463]\n120 [0.100401014, 0.19978067]\n140 [0.10024866, 0.199864]\n160 [0.10015418, 0.19991568]\n180 [0.1000956, 0.19994771]\n200 [0.10005926, 0.1999676]\n"
     ]
    }
   ],
   "source": [
    "# 使用 numpy 生成100个随机点\n",
    "x_data = np.random.rand(100)\n",
    "# 真实的模型\n",
    "y_data = x_data*0.1 + 0.2\n",
    "\n",
    "# 构造一个线性模型\n",
    "b = tf.Variable(0.0)\n",
    "k = tf.Variable(0.0)\n",
    "y = k*x_data + b\n",
    "\n",
    "# 二次代价函数 \n",
    "# tf.reduce_mean 函数用于计算张量tensor沿着指定的数轴（tensor的某一维度）上的的平均值，主要用作降维或者计算tensor（图像）的平均值。\n",
    "loss = tf.reduce_mean(tf.square(y_data-y))\n",
    "# 梯度下降来优化\n",
    "optimizer = tf.train.GradientDescentOptimizer(0.2)\n",
    "# 最小化代价函数 \n",
    "train = optimizer.minimize(loss)\n",
    "\n",
    "init = tf.global_variables_initializer()\n",
    "\n",
    "with tf.Session() as session:\n",
    "    session.run(init)\n",
    "    for step in range(201):\n",
    "        session.run(train)\n",
    "        if step % 20 == 0:\n",
    "            print(step, session.run([k, b]))\n"
   ]
  },
  {
   "cell_type": "code",
   "execution_count": 4,
   "metadata": {},
   "outputs": [],
   "source": [
    "# 0阶 张量\n",
    "\n",
    "mammal = tf.Variable(\"Elephant\", tf.string)\n",
    "ignition = tf.Variable(451, tf.int16)\n",
    "floating = tf.Variable(3.141592645, tf.float64)\n",
    "its_complicated = tf.Variable(12.3 - 4.85j, tf.complex64)\n"
   ]
  },
  {
   "cell_type": "code",
   "execution_count": 5,
   "metadata": {},
   "outputs": [
    {
     "data": {
      "text/plain": [
       "[<tf.Variable 'Variable_2:0' shape=() dtype=string_ref>,\n <tf.Variable 'Variable_3:0' shape=() dtype=int32_ref>,\n <tf.Variable 'Variable_4:0' shape=() dtype=float32_ref>,\n <tf.Variable 'Variable_5:0' shape=() dtype=complex128_ref>]"
      ]
     },
     "execution_count": 5,
     "metadata": {},
     "output_type": "execute_result"
    }
   ],
   "source": [
    "[mammal, ignition, floating, its_complicated]\n"
   ]
  },
  {
   "cell_type": "code",
   "execution_count": 8,
   "metadata": {},
   "outputs": [
    {
     "data": {
      "text/plain": [
       "[<tf.Tensor 'zeros_1:0' shape=(10, 999, 123, 3) dtype=float32>]"
      ]
     },
     "execution_count": 8,
     "metadata": {},
     "output_type": "execute_result"
    }
   ],
   "source": [
    "# 2阶 张量\n",
    "\n",
    "mammal2 = tf.Variable([[\"hello\"], [\"world\"]], tf.string)\n",
    "ignition2 = tf.Variable([[10], [8]], tf.int16)\n",
    "floating2 = tf.Variable(3.141592645, tf.float64)\n",
    "squarish_squares = tf.Variable([[44, 6], [123, 3]], tf.float32)\n",
    "rank_of_square = tf.rank(squarish_squares)\n",
    "\n",
    "[mammal2, ignition2, floating2, squarish_squares, rank_of_square]\n",
    "\n",
    "# 4阶 张量\n",
    "# batch x height x width x color\n",
    "my_img = tf.zeros([10, 999, 123, 3], tf.float32) \n",
    "[my_img]\n"
   ]
  },
  {
   "cell_type": "code",
   "execution_count": null,
   "metadata": {},
   "outputs": [],
   "source": []
  }
 ],
 "metadata": {
  "kernelspec": {
   "display_name": "Python 3",
   "language": "python",
   "name": "python3"
  },
  "language_info": {
   "codemirror_mode": {
    "name": "ipython",
    "version": 3
   },
   "file_extension": ".py",
   "mimetype": "text/x-python",
   "name": "python",
   "nbconvert_exporter": "python",
   "pygments_lexer": "ipython3",
   "version": "3.6.7"
  }
 },
 "nbformat": 4,
 "nbformat_minor": 2
}
